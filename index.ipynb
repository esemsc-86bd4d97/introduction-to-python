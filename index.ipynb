{
 "cells": [
  {
   "cell_type": "markdown",
   "id": "0dd16282",
   "metadata": {},
   "source": [
    "# Introduction to Python\n",
    "\n",
    "Welcome to **Introduction to Python**! Python is one of the most popular and powerful programming languages. It is used extensively in computational and data science, and you will use it in almost all modules during your MSc studies. This self-guided course will help you to learn the basics of Python.\n",
    "\n",
    "## Lectures\n",
    "\n",
    "This course consists of five compulsory lectures:\n",
    "\n",
    "* [Lecture 1](./lecture1/lecture1.ipynb)\n",
    "* [Lecture 2](./lecture2/lecture2.ipynb)\n",
    "* [Lecture 3](./lecture3/lecture3.ipynb)\n",
    "* [Lecture 4](./lecture4/lecture4.ipynb)\n",
    "* [Lecture 5](./lecture5/lecture5.ipynb)\n",
    "\n",
    "and one optional:\n",
    "\n",
    "* [Lecture 6](./lecture4/lecture6.ipynb)\n",
    "\n",
    "We strongly recommend completing them in this order.\n",
    "\n",
    "## Testing\n",
    "\n",
    "After (almost) each exercise, there are two cells containing some code. In those cells, we test your solution using two different methods:\n",
    "\n",
    "1. **PyBryt** analyses your solution and provides you feedback on what is correct in your implementation, as well as what might be wrong. Please read PyBryt's feedback carefully and address the `ERROR` messages by modifying your solution.\n",
    "2. **assert** statements validate your final solution\n",
    "\n",
    "It is important to follow the instructions for each exercise exactly and do not change the names of variables, functions, or classes so that tests can analyse your code. Besides, please do not change the content of any of the testing cells.\n",
    "\n",
    "Although **PyBryt** provides much more detailed feedback, it is possible it complains about your code even though **assert** statement confirms your code is correct. This is because PyBryt testing is based on comparing your solution to reference solutions. Since there is virtually an infinite number of alternative solutions, it is possible that your solution is not in our references. On the other hand, assert statements check the final result of your code and if they do not raise an error, your code is correct and you do not have to address **PyBryt**'s error messages (if any)."
   ]
  }
 ],
 "metadata": {
  "kernelspec": {
   "display_name": "Python 3",
   "language": "python",
   "name": "python3"
  },
  "language_info": {
   "codemirror_mode": {
    "name": "ipython",
    "version": 3
   },
   "file_extension": ".py",
   "mimetype": "text/x-python",
   "name": "python",
   "nbconvert_exporter": "python",
   "pygments_lexer": "ipython3",
   "version": "3.9.5"
  }
 },
 "nbformat": 4,
 "nbformat_minor": 5
}
